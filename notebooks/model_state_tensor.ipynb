{
 "cells": [
  {
   "cell_type": "code",
   "execution_count": 99,
   "metadata": {},
   "outputs": [],
   "source": [
    "import xarray as xr\n",
    "import numpy as np\n",
    "import matplotlib.pyplot as plt"
   ]
  },
  {
   "cell_type": "code",
   "execution_count": 91,
   "metadata": {},
   "outputs": [],
   "source": [
    "runpath = '/home/ashao/data/double_gyre/from_sam/3yr_runs_with_tracer/1-2_deg_1000/'\n",
    "data = xr.open_dataset(runpath + 'ocean_mean_month.nc',decode_times=False)\n",
    "# Define list of 3d variables (nz,nlat,nlon) to be used to construct tensor\n",
    "state_vars_3d = ['dye001',\n",
    "                 'dye002',\n",
    "                 'dye003',\n",
    "                 'sfn']\n",
    "nvar_3d = len(state_vars_3d)\n",
    "# Placeholder list for 2d variables (nlat,nlon)\n",
    "state_vars_2d = []\n",
    "nvar_2d = len(state_vars_2d)\n",
    "# Store dimension lengths of data\n",
    "nk = len(data.zl)\n",
    "nlat = data.yh.size\n",
    "nlon = data.xh.size\n",
    "npts = nlat*nlon\n",
    "# Define indices for time averaging\n",
    "t0 = 12\n",
    "tf = -1"
   ]
  },
  {
   "cell_type": "code",
   "execution_count": 92,
   "metadata": {},
   "outputs": [],
   "source": [
    "# Calculate zonal streamfunction\n",
    "data['sfn'] = data.vh.cumsum('xh')"
   ]
  },
  {
   "cell_type": "code",
   "execution_count": 93,
   "metadata": {},
   "outputs": [],
   "source": [
    "# Create array which will become the state tensor\n",
    "state_tensor = np.zeros((npts,nvar_3d*nz+nvar_2d*1))"
   ]
  },
  {
   "cell_type": "code",
   "execution_count": 94,
   "metadata": {},
   "outputs": [],
   "source": [
    "# Loop over all state variables to create state tensor\n",
    "ncol = 0\n",
    "for var in state_vars_3d:\n",
    "    for k in range(0,nk):\n",
    "        # Average the data in time (note that )\n",
    "        state_tensor[:,ncol] = np.array(data[var][t0:tf,:,:,:].mean('time')[k,:,:]).reshape(npts)\n",
    "        ncol += 1\n",
    "for var in state_vars_2d:\n",
    "    state_tensor[:,ncol] = np.array(data[var][t0:tf,:,:].mean('time')[:,:]).reshape(npts)\n",
    "    ncol += 1"
   ]
  },
  {
   "cell_type": "code",
   "execution_count": 95,
   "metadata": {},
   "outputs": [
    {
     "data": {
      "text/plain": [
       "array([[  5.86165078e-02,   0.00000000e+00,   3.39019954e-01, ...,\n",
       "          0.00000000e+00,  -1.10063025e+06,  -2.33899546e-17],\n",
       "       [  5.93723506e-02,   0.00000000e+00,   3.40568125e-01, ...,\n",
       "          0.00000000e+00,  -1.87685350e+06,  -3.22176592e-17],\n",
       "       [  8.53611082e-02,   0.00000000e+00,   3.32580775e-01, ...,\n",
       "          0.00000000e+00,   2.06843250e+05,  -1.60289504e-17],\n",
       "       ..., \n",
       "       [  8.78810691e-24,   0.00000000e+00,   9.83998243e-14, ...,\n",
       "          0.00000000e+00,   0.00000000e+00,   0.00000000e+00],\n",
       "       [  2.41835205e-30,   0.00000000e+00,   5.20011228e-17, ...,\n",
       "          0.00000000e+00,   0.00000000e+00,   0.00000000e+00],\n",
       "       [  5.63544504e-35,   0.00000000e+00,   2.90551386e-16, ...,\n",
       "          0.00000000e+00,   0.00000000e+00,   0.00000000e+00]])"
      ]
     },
     "execution_count": 95,
     "metadata": {},
     "output_type": "execute_result"
    }
   ],
   "source": [
    "state_tensor"
   ]
  },
  {
   "cell_type": "code",
   "execution_count": 101,
   "metadata": {},
   "outputs": [
    {
     "data": {
      "text/plain": [
       "<matplotlib.collections.QuadMesh at 0x7fdcc3593c88>"
      ]
     },
     "execution_count": 101,
     "metadata": {},
     "output_type": "execute_result"
    },
    {
     "data": {
      "image/png": "[encoded data removed]",
      "text/plain": [
       "<matplotlib.figure.Figure at 0x7fdcc37ce5c0>"
      ]
     },
     "metadata": {},
     "output_type": "display_data"
    }
   ],
   "source": [
    "# Note that we undo the reshape operation to get the data back on the original horizontal grid\n",
    "tmp = state_tensor[:,0].reshape( (nlat,nlon) )\n",
    "plt.pcolormesh(data.xh,data.yh,tmp)"
   ]
  },
  {
   "cell_type": "code",
   "execution_count": null,
   "metadata": {},
   "outputs": [],
   "source": []
  }
 ],
 "metadata": {
  "kernelspec": {
   "display_name": "Python 3",
   "language": "python",
   "name": "python3"
  },
  "language_info": {
   "codemirror_mode": {
    "name": "ipython",
    "version": 3
   },
   "file_extension": ".py",
   "mimetype": "text/x-python",
   "name": "python",
   "nbconvert_exporter": "python",
   "pygments_lexer": "ipython3",
   "version": "3.6.0"
  }
 },
 "nbformat": 4,
 "nbformat_minor": 2
}
